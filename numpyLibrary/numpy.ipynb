{
 "cells": [
  {
   "cell_type": "markdown",
   "id": "3591984b",
   "metadata": {},
   "source": [
    "# Go for explore more Attributes & methods\n",
    "\n",
    "*** https://docs.scipy.org/doc/numpy-1.6.0/reference/generated/numpy.ndarray.html ***\n"
   ]
  },
  {
   "cell_type": "markdown",
   "id": "31ed543a-28fc-45fb-9673-e5147c534ae0",
   "metadata": {},
   "source": [
    "# Welcome tho numpy"
   ]
  },
  {
   "cell_type": "code",
   "execution_count": 103,
   "id": "2b2a3a04-d702-4937-9af2-04d478068ee1",
   "metadata": {},
   "outputs": [],
   "source": [
    "import numpy as np # Including the numpy library"
   ]
  },
  {
   "cell_type": "code",
   "execution_count": 104,
   "id": "2e0632aa-2ba3-4495-9428-ab7913c16998",
   "metadata": {},
   "outputs": [],
   "source": [
    "myarr = np.array([[1,3,4,6,7,12]])"
   ]
  },
  {
   "cell_type": "code",
   "execution_count": 105,
   "id": "c6412905",
   "metadata": {},
   "outputs": [
    {
     "data": {
      "text/plain": [
       "array([ 1,  3,  4,  6,  7, 12])"
      ]
     },
     "execution_count": 105,
     "metadata": {},
     "output_type": "execute_result"
    }
   ],
   "source": [
    "myarr[0]"
   ]
  },
  {
   "cell_type": "markdown",
   "id": "d03c5d80",
   "metadata": {},
   "source": [
    "# Array creation: Convertion from other Python structure"
   ]
  },
  {
   "cell_type": "code",
   "execution_count": 106,
   "id": "65e5ee34",
   "metadata": {},
   "outputs": [],
   "source": [
    "listarray = np.array([  #Create a array\n",
    "    [1,2,3,4],\n",
    "    [5,6,7,8],\n",
    "    [9,10,11,12]\n",
    "])"
   ]
  },
  {
   "cell_type": "code",
   "execution_count": 107,
   "id": "6201739c",
   "metadata": {},
   "outputs": [
    {
     "data": {
      "text/plain": [
       "array([[ 1,  2,  3,  4],\n",
       "       [ 5,  6,  7,  8],\n",
       "       [ 9, 10, 11, 12]])"
      ]
     },
     "execution_count": 107,
     "metadata": {},
     "output_type": "execute_result"
    }
   ],
   "source": [
    "listarray"
   ]
  },
  {
   "cell_type": "code",
   "execution_count": 108,
   "id": "a1e7956f",
   "metadata": {},
   "outputs": [
    {
     "data": {
      "text/plain": [
       "dtype('int64')"
      ]
     },
     "execution_count": 108,
     "metadata": {},
     "output_type": "execute_result"
    }
   ],
   "source": [
    "listarray.dtype #Give the data type of array"
   ]
  },
  {
   "cell_type": "code",
   "execution_count": 109,
   "id": "29e6cfc0",
   "metadata": {},
   "outputs": [
    {
     "data": {
      "text/plain": [
       "(3, 4)"
      ]
     },
     "execution_count": 109,
     "metadata": {},
     "output_type": "execute_result"
    }
   ],
   "source": [
    "listarray.shape # Give the array shape"
   ]
  },
  {
   "cell_type": "code",
   "execution_count": 110,
   "id": "8415030a",
   "metadata": {},
   "outputs": [
    {
     "data": {
      "text/plain": [
       "12"
      ]
     },
     "execution_count": 110,
     "metadata": {},
     "output_type": "execute_result"
    }
   ],
   "source": [
    "listarray.size # Give the array size"
   ]
  },
  {
   "cell_type": "code",
   "execution_count": 111,
   "id": "877eb948",
   "metadata": {},
   "outputs": [],
   "source": [
    "zeros = np.zeros((2,5)) #Create a matrix with the value 0"
   ]
  },
  {
   "cell_type": "code",
   "execution_count": 112,
   "id": "d4eadeef",
   "metadata": {},
   "outputs": [
    {
     "data": {
      "text/plain": [
       "array([[0., 0., 0., 0., 0.],\n",
       "       [0., 0., 0., 0., 0.]])"
      ]
     },
     "execution_count": 112,
     "metadata": {},
     "output_type": "execute_result"
    }
   ],
   "source": [
    "zeros"
   ]
  },
  {
   "cell_type": "code",
   "execution_count": 113,
   "id": "bfcafca9",
   "metadata": {},
   "outputs": [],
   "source": [
    "rng = np.arange(15) #Create 1D array for a specfic rang"
   ]
  },
  {
   "cell_type": "code",
   "execution_count": 114,
   "id": "e0fe7c19",
   "metadata": {},
   "outputs": [
    {
     "data": {
      "text/plain": [
       "array([ 0,  1,  2,  3,  4,  5,  6,  7,  8,  9, 10, 11, 12, 13, 14])"
      ]
     },
     "execution_count": 114,
     "metadata": {},
     "output_type": "execute_result"
    }
   ],
   "source": [
    "rng"
   ]
  },
  {
   "cell_type": "code",
   "execution_count": 115,
   "id": "bf2e74c4",
   "metadata": {},
   "outputs": [],
   "source": [
    "lspace = np.linspace(1,5,4) # Create space between 1st & last element"
   ]
  },
  {
   "cell_type": "code",
   "execution_count": 116,
   "id": "329cbd63",
   "metadata": {},
   "outputs": [
    {
     "data": {
      "text/plain": [
       "array([1.        , 2.33333333, 3.66666667, 5.        ])"
      ]
     },
     "execution_count": 116,
     "metadata": {},
     "output_type": "execute_result"
    }
   ],
   "source": [
    "lspace"
   ]
  },
  {
   "cell_type": "code",
   "execution_count": 117,
   "id": "538f9074",
   "metadata": {},
   "outputs": [],
   "source": [
    "emp = np.empty((4,6)) "
   ]
  },
  {
   "cell_type": "code",
   "execution_count": 118,
   "id": "ca807b3f",
   "metadata": {},
   "outputs": [
    {
     "data": {
      "text/plain": [
       "array([[3.18079702e-315, 0.00000000e+000, 5.82133045e-317,\n",
       "        5.82465847e-317, 5.82195099e-317, 5.82425927e-317],\n",
       "       [5.82175337e-317, 5.82406560e-317, 5.82124745e-317,\n",
       "        5.82274940e-317, 5.82259130e-317, 5.82148855e-317],\n",
       "       [5.82298656e-317, 5.82192728e-317, 5.82167827e-317,\n",
       "        5.82354386e-317, 5.82351619e-317, 5.82433832e-317],\n",
       "       [5.82225534e-317, 5.82162294e-317, 5.82414860e-317,\n",
       "        5.82138578e-317, 5.82095891e-317, 6.88657618e-310]])"
      ]
     },
     "execution_count": 118,
     "metadata": {},
     "output_type": "execute_result"
    }
   ],
   "source": [
    "emp"
   ]
  },
  {
   "cell_type": "code",
   "execution_count": 119,
   "id": "d19f0b03",
   "metadata": {},
   "outputs": [],
   "source": [
    "emp_like = np.empty_like(lspace)"
   ]
  },
  {
   "cell_type": "code",
   "execution_count": 120,
   "id": "6cb21051",
   "metadata": {},
   "outputs": [
    {
     "data": {
      "text/plain": [
       "array([1.        , 2.33333333, 3.66666667, 5.        ])"
      ]
     },
     "execution_count": 120,
     "metadata": {},
     "output_type": "execute_result"
    }
   ],
   "source": [
    "emp_like"
   ]
  },
  {
   "cell_type": "code",
   "execution_count": 123,
   "id": "9ab5e6e1",
   "metadata": {},
   "outputs": [],
   "source": [
    "ide = np.identity(4) #Create a Identity matrix"
   ]
  },
  {
   "cell_type": "code",
   "execution_count": 124,
   "id": "8d7bc965",
   "metadata": {},
   "outputs": [
    {
     "data": {
      "text/plain": [
       "array([[1., 0., 0., 0.],\n",
       "       [0., 1., 0., 0.],\n",
       "       [0., 0., 1., 0.],\n",
       "       [0., 0., 0., 1.]])"
      ]
     },
     "execution_count": 124,
     "metadata": {},
     "output_type": "execute_result"
    }
   ],
   "source": [
    "ide"
   ]
  },
  {
   "cell_type": "code",
   "execution_count": 125,
   "id": "3f8f28d9",
   "metadata": {},
   "outputs": [],
   "source": [
    "arr = np.arange(99) #Create a 1D arry 0 to 98"
   ]
  },
  {
   "cell_type": "code",
   "execution_count": 126,
   "id": "a0be7119",
   "metadata": {},
   "outputs": [
    {
     "data": {
      "text/plain": [
       "array([ 0,  1,  2,  3,  4,  5,  6,  7,  8,  9, 10, 11, 12, 13, 14, 15, 16,\n",
       "       17, 18, 19, 20, 21, 22, 23, 24, 25, 26, 27, 28, 29, 30, 31, 32, 33,\n",
       "       34, 35, 36, 37, 38, 39, 40, 41, 42, 43, 44, 45, 46, 47, 48, 49, 50,\n",
       "       51, 52, 53, 54, 55, 56, 57, 58, 59, 60, 61, 62, 63, 64, 65, 66, 67,\n",
       "       68, 69, 70, 71, 72, 73, 74, 75, 76, 77, 78, 79, 80, 81, 82, 83, 84,\n",
       "       85, 86, 87, 88, 89, 90, 91, 92, 93, 94, 95, 96, 97, 98])"
      ]
     },
     "execution_count": 126,
     "metadata": {},
     "output_type": "execute_result"
    }
   ],
   "source": [
    "arr"
   ]
  },
  {
   "cell_type": "code",
   "execution_count": 129,
   "id": "d0fc3b1b",
   "metadata": {},
   "outputs": [],
   "source": [
    "arr = arr.reshape(3,33) #Convert 1D array to 2D array\n",
    "                        #Focusing on the row and column"
   ]
  },
  {
   "cell_type": "code",
   "execution_count": 130,
   "id": "336886f5",
   "metadata": {},
   "outputs": [
    {
     "data": {
      "text/plain": [
       "array([[ 0,  1,  2,  3,  4,  5,  6,  7,  8,  9, 10, 11, 12, 13, 14, 15,\n",
       "        16, 17, 18, 19, 20, 21, 22, 23, 24, 25, 26, 27, 28, 29, 30, 31,\n",
       "        32],\n",
       "       [33, 34, 35, 36, 37, 38, 39, 40, 41, 42, 43, 44, 45, 46, 47, 48,\n",
       "        49, 50, 51, 52, 53, 54, 55, 56, 57, 58, 59, 60, 61, 62, 63, 64,\n",
       "        65],\n",
       "       [66, 67, 68, 69, 70, 71, 72, 73, 74, 75, 76, 77, 78, 79, 80, 81,\n",
       "        82, 83, 84, 85, 86, 87, 88, 89, 90, 91, 92, 93, 94, 95, 96, 97,\n",
       "        98]])"
      ]
     },
     "execution_count": 130,
     "metadata": {},
     "output_type": "execute_result"
    }
   ],
   "source": [
    "arr"
   ]
  },
  {
   "cell_type": "code",
   "execution_count": 131,
   "id": "7bd80410",
   "metadata": {},
   "outputs": [
    {
     "data": {
      "text/plain": [
       "array([ 0,  1,  2,  3,  4,  5,  6,  7,  8,  9, 10, 11, 12, 13, 14, 15, 16,\n",
       "       17, 18, 19, 20, 21, 22, 23, 24, 25, 26, 27, 28, 29, 30, 31, 32, 33,\n",
       "       34, 35, 36, 37, 38, 39, 40, 41, 42, 43, 44, 45, 46, 47, 48, 49, 50,\n",
       "       51, 52, 53, 54, 55, 56, 57, 58, 59, 60, 61, 62, 63, 64, 65, 66, 67,\n",
       "       68, 69, 70, 71, 72, 73, 74, 75, 76, 77, 78, 79, 80, 81, 82, 83, 84,\n",
       "       85, 86, 87, 88, 89, 90, 91, 92, 93, 94, 95, 96, 97, 98])"
      ]
     },
     "execution_count": 131,
     "metadata": {},
     "output_type": "execute_result"
    }
   ],
   "source": [
    "arr.ravel() #Convert 2D array to 1D array\n",
    "            #Focusing on the row and column"
   ]
  },
  {
   "cell_type": "markdown",
   "id": "4a58228b",
   "metadata": {},
   "source": [
    "# NUMPY AXIS"
   ]
  },
  {
   "cell_type": "code",
   "execution_count": 132,
   "id": "a04ba2c5",
   "metadata": {},
   "outputs": [],
   "source": [
    "X = [[1,2,3],\n",
    "     [4,5,6],\n",
    "     [7,1,0]]"
   ]
  },
  {
   "cell_type": "code",
   "execution_count": 133,
   "id": "26b6afea",
   "metadata": {},
   "outputs": [],
   "source": [
    "ar = np.array(X)"
   ]
  },
  {
   "cell_type": "code",
   "execution_count": 134,
   "id": "6f357c5c",
   "metadata": {},
   "outputs": [
    {
     "data": {
      "text/plain": [
       "array([[1, 2, 3],\n",
       "       [4, 5, 6],\n",
       "       [7, 1, 0]])"
      ]
     },
     "execution_count": 134,
     "metadata": {},
     "output_type": "execute_result"
    }
   ],
   "source": [
    "ar"
   ]
  },
  {
   "cell_type": "code",
   "execution_count": 135,
   "id": "d0c4ff53",
   "metadata": {},
   "outputs": [
    {
     "data": {
      "text/plain": [
       "array([12,  8,  9])"
      ]
     },
     "execution_count": 135,
     "metadata": {},
     "output_type": "execute_result"
    }
   ],
   "source": [
    "ar.sum(axis=0) #It return Sum of all the 0/Y axis value"
   ]
  },
  {
   "cell_type": "code",
   "execution_count": 136,
   "id": "a7d2efe1",
   "metadata": {},
   "outputs": [
    {
     "data": {
      "text/plain": [
       "array([ 6, 15,  8])"
      ]
     },
     "execution_count": 136,
     "metadata": {},
     "output_type": "execute_result"
    }
   ],
   "source": [
    "ar.sum(axis=1) #It return Sum of all the 1/X asix value"
   ]
  },
  {
   "cell_type": "markdown",
   "id": "316aaff4",
   "metadata": {},
   "source": [
    "# Attribute & Methode"
   ]
  },
  {
   "cell_type": "code",
   "execution_count": 148,
   "id": "3df1c4b7",
   "metadata": {},
   "outputs": [
    {
     "data": {
      "text/plain": [
       "array([[1, 4, 7],\n",
       "       [2, 5, 1],\n",
       "       [3, 6, 0]])"
      ]
     },
     "execution_count": 148,
     "metadata": {},
     "output_type": "execute_result"
    }
   ],
   "source": [
    "ar.T #attribute without ()\n",
    "     #Transports a 2d array"
   ]
  },
  {
   "cell_type": "code",
   "execution_count": 138,
   "id": "4ed5f8f2",
   "metadata": {},
   "outputs": [
    {
     "data": {
      "text/plain": [
       "<numpy.flatiter at 0x27377de0>"
      ]
     },
     "execution_count": 138,
     "metadata": {},
     "output_type": "execute_result"
    }
   ],
   "source": [
    "ar.flat"
   ]
  },
  {
   "cell_type": "code",
   "execution_count": 139,
   "id": "31e0b3ff",
   "metadata": {},
   "outputs": [
    {
     "name": "stdout",
     "output_type": "stream",
     "text": [
      "1\n",
      "2\n",
      "3\n",
      "4\n",
      "5\n",
      "6\n",
      "7\n",
      "1\n",
      "0\n"
     ]
    }
   ],
   "source": [
    "for item in ar.flat:\n",
    "    print(item)"
   ]
  },
  {
   "cell_type": "code",
   "execution_count": 140,
   "id": "423acb6b",
   "metadata": {},
   "outputs": [
    {
     "data": {
      "text/plain": [
       "2"
      ]
     },
     "execution_count": 140,
     "metadata": {},
     "output_type": "execute_result"
    }
   ],
   "source": [
    "ar.ndim #It gives the dimention of array"
   ]
  },
  {
   "cell_type": "code",
   "execution_count": 141,
   "id": "9c45897a",
   "metadata": {},
   "outputs": [
    {
     "data": {
      "text/plain": [
       "9"
      ]
     },
     "execution_count": 141,
     "metadata": {},
     "output_type": "execute_result"
    }
   ],
   "source": [
    "ar.size #It gives the elements number in the array"
   ]
  },
  {
   "cell_type": "code",
   "execution_count": 142,
   "id": "e16f90ab",
   "metadata": {},
   "outputs": [
    {
     "data": {
      "text/plain": [
       "72"
      ]
     },
     "execution_count": 142,
     "metadata": {},
     "output_type": "execute_result"
    }
   ],
   "source": [
    "ar.nbytes # It give the bytes size which is consume by array  elements"
   ]
  },
  {
   "cell_type": "code",
   "execution_count": 144,
   "id": "1f4d3c5d",
   "metadata": {},
   "outputs": [],
   "source": [
    "one = np.array([1,3,4,634,2]) "
   ]
  },
  {
   "cell_type": "code",
   "execution_count": 145,
   "id": "25c072f0",
   "metadata": {},
   "outputs": [
    {
     "data": {
      "text/plain": [
       "np.int64(3)"
      ]
     },
     "execution_count": 145,
     "metadata": {},
     "output_type": "execute_result"
    }
   ],
   "source": [
    "one.argmax() #Method with ()\n",
    "             #It gives the largest element index"
   ]
  },
  {
   "cell_type": "code",
   "execution_count": 146,
   "id": "3d1705e0",
   "metadata": {},
   "outputs": [
    {
     "data": {
      "text/plain": [
       "np.int64(0)"
      ]
     },
     "execution_count": 146,
     "metadata": {},
     "output_type": "execute_result"
    }
   ],
   "source": [
    "one.argmin() #It gives the smallest element index"
   ]
  },
  {
   "cell_type": "code",
   "execution_count": 147,
   "id": "8c6440e0",
   "metadata": {},
   "outputs": [
    {
     "data": {
      "text/plain": [
       "array([0, 4, 1, 2, 3])"
      ]
     },
     "execution_count": 147,
     "metadata": {},
     "output_type": "execute_result"
    }
   ],
   "source": [
    "one.argsort() # Ii give sorted indexs"
   ]
  },
  {
   "cell_type": "code",
   "execution_count": 149,
   "id": "44a26883",
   "metadata": {},
   "outputs": [
    {
     "data": {
      "text/plain": [
       "np.int64(8)"
      ]
     },
     "execution_count": 149,
     "metadata": {},
     "output_type": "execute_result"
    }
   ],
   "source": [
    "ar.argmin()"
   ]
  },
  {
   "cell_type": "code",
   "execution_count": 150,
   "id": "e3ba6863",
   "metadata": {},
   "outputs": [
    {
     "data": {
      "text/plain": [
       "np.int64(6)"
      ]
     },
     "execution_count": 150,
     "metadata": {},
     "output_type": "execute_result"
    }
   ],
   "source": [
    "ar.argmax()"
   ]
  },
  {
   "cell_type": "code",
   "execution_count": 151,
   "id": "69b91ec2",
   "metadata": {},
   "outputs": [
    {
     "data": {
      "text/plain": [
       "array([2, 1, 1])"
      ]
     },
     "execution_count": 151,
     "metadata": {},
     "output_type": "execute_result"
    }
   ],
   "source": [
    "ar.argmax(axis=0)"
   ]
  },
  {
   "cell_type": "code",
   "execution_count": 152,
   "id": "40272a5b",
   "metadata": {},
   "outputs": [
    {
     "data": {
      "text/plain": [
       "array([2, 2, 0])"
      ]
     },
     "execution_count": 152,
     "metadata": {},
     "output_type": "execute_result"
    }
   ],
   "source": [
    "ar.argmax(axis=1)"
   ]
  },
  {
   "cell_type": "code",
   "execution_count": 153,
   "id": "3fefb3e5",
   "metadata": {},
   "outputs": [
    {
     "data": {
      "text/plain": [
       "array([[0, 1, 2],\n",
       "       [0, 1, 2],\n",
       "       [2, 1, 0]])"
      ]
     },
     "execution_count": 153,
     "metadata": {},
     "output_type": "execute_result"
    }
   ],
   "source": [
    "ar.argsort()"
   ]
  },
  {
   "cell_type": "markdown",
   "id": "a178dada",
   "metadata": {},
   "source": [
    "# Mathmatical Operation"
   ]
  },
  {
   "cell_type": "code",
   "execution_count": 161,
   "id": "1f0edb5b",
   "metadata": {},
   "outputs": [],
   "source": [
    "ar2 = np.array([[1,2,1],         \n",
    "               [4,0,6],\n",
    "               [8,1,0]])\n",
    "                        \n",
    "                         #ar = [[1,2,3],\n",
    "                         #      [4,5,6],\n",
    "                         #      [7,1,0]] "
   ]
  },
  {
   "cell_type": "code",
   "execution_count": 157,
   "id": "c511220d",
   "metadata": {},
   "outputs": [
    {
     "data": {
      "text/plain": [
       "array([[ 2,  4,  4],\n",
       "       [ 8,  5, 12],\n",
       "       [15,  2,  0]])"
      ]
     },
     "execution_count": 157,
     "metadata": {},
     "output_type": "execute_result"
    }
   ],
   "source": [
    "ar + ar2"
   ]
  },
  {
   "cell_type": "code",
   "execution_count": 158,
   "id": "fd9d8ce9",
   "metadata": {},
   "outputs": [
    {
     "data": {
      "text/plain": [
       "array([[ 1,  4,  3],\n",
       "       [16,  0, 36],\n",
       "       [56,  1,  0]])"
      ]
     },
     "execution_count": 158,
     "metadata": {},
     "output_type": "execute_result"
    }
   ],
   "source": [
    "ar * ar2"
   ]
  },
  {
   "cell_type": "code",
   "execution_count": 162,
   "id": "bb9265f8",
   "metadata": {},
   "outputs": [
    {
     "data": {
      "text/plain": [
       "array([[1.        , 1.41421356, 1.73205081],\n",
       "       [2.        , 2.23606798, 2.44948974],\n",
       "       [2.64575131, 1.        , 0.        ]])"
      ]
     },
     "execution_count": 162,
     "metadata": {},
     "output_type": "execute_result"
    }
   ],
   "source": [
    "np.sqrt(ar) # root of each elements"
   ]
  },
  {
   "cell_type": "code",
   "execution_count": 163,
   "id": "751bde66",
   "metadata": {},
   "outputs": [
    {
     "data": {
      "text/plain": [
       "np.int64(29)"
      ]
     },
     "execution_count": 163,
     "metadata": {},
     "output_type": "execute_result"
    }
   ],
   "source": [
    "ar.sum()\n",
    "           #ar = [[1,2,3],\n",
    "           #      [4,5,6],\n",
    "           #      [7,1,0]] "
   ]
  },
  {
   "cell_type": "code",
   "execution_count": 164,
   "id": "71643ae8",
   "metadata": {},
   "outputs": [
    {
     "data": {
      "text/plain": [
       "np.int64(7)"
      ]
     },
     "execution_count": 164,
     "metadata": {},
     "output_type": "execute_result"
    }
   ],
   "source": [
    "ar.max()"
   ]
  },
  {
   "cell_type": "code",
   "execution_count": 165,
   "id": "d6463568",
   "metadata": {},
   "outputs": [
    {
     "data": {
      "text/plain": [
       "np.int64(0)"
      ]
     },
     "execution_count": 165,
     "metadata": {},
     "output_type": "execute_result"
    }
   ],
   "source": [
    "ar.min()       #ar = [[1,2,3],\n",
    "               #      [4,5,6],\n",
    "               #      [7,1,0]] "
   ]
  },
  {
   "cell_type": "code",
   "execution_count": null,
   "id": "317fb085",
   "metadata": {},
   "outputs": [],
   "source": [
    "np.where(ar>5) # Find a element"
   ]
  },
  {
   "cell_type": "code",
   "execution_count": 166,
   "id": "fecaa943",
   "metadata": {},
   "outputs": [
    {
     "data": {
      "text/plain": [
       "8"
      ]
     },
     "execution_count": 166,
     "metadata": {},
     "output_type": "execute_result"
    }
   ],
   "source": [
    "np.count_nonzero(ar) # Count nonzero Elements"
   ]
  },
  {
   "cell_type": "code",
   "execution_count": 167,
   "id": "1502e68c",
   "metadata": {},
   "outputs": [],
   "source": [
    "import sys # Byite difference of python array & numpy array"
   ]
  },
  {
   "cell_type": "code",
   "execution_count": 168,
   "id": "29c82ba6",
   "metadata": {},
   "outputs": [],
   "source": [
    "py_ar = [0,4,55,2]"
   ]
  },
  {
   "cell_type": "code",
   "execution_count": 169,
   "id": "9d262d07",
   "metadata": {},
   "outputs": [],
   "source": [
    "np_ar = np.array(py_ar)"
   ]
  },
  {
   "cell_type": "code",
   "execution_count": 170,
   "id": "968c418f",
   "metadata": {},
   "outputs": [
    {
     "data": {
      "text/plain": [
       "112"
      ]
     },
     "execution_count": 170,
     "metadata": {},
     "output_type": "execute_result"
    }
   ],
   "source": [
    "sys.getsizeof(1) * len(py_ar)"
   ]
  },
  {
   "cell_type": "code",
   "execution_count": 171,
   "id": "912b0b4e",
   "metadata": {},
   "outputs": [
    {
     "data": {
      "text/plain": [
       "32"
      ]
     },
     "execution_count": 171,
     "metadata": {},
     "output_type": "execute_result"
    }
   ],
   "source": [
    "np_ar.itemsize * np_ar.size"
   ]
  },
  {
   "cell_type": "code",
   "execution_count": null,
   "id": "7b1fa8c6",
   "metadata": {},
   "outputs": [],
   "source": []
  }
 ],
 "metadata": {
  "kernelspec": {
   "display_name": "Python 3 (ipykernel)",
   "language": "python",
   "name": "python3"
  },
  "language_info": {
   "codemirror_mode": {
    "name": "ipython",
    "version": 3
   },
   "file_extension": ".py",
   "mimetype": "text/x-python",
   "name": "python",
   "nbconvert_exporter": "python",
   "pygments_lexer": "ipython3",
   "version": "3.12.3"
  }
 },
 "nbformat": 4,
 "nbformat_minor": 5
}
